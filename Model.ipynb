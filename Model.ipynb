{
 "cells": [
  {
   "cell_type": "code",
   "execution_count": 9,
   "metadata": {},
   "outputs": [
    {
     "name": "stdout",
     "output_type": "stream",
     "text": [
      "_________________________________________________________________\n",
      "Layer (type)                 Output Shape              Param #   \n",
      "=================================================================\n",
      "input_9 (InputLayer)         (None, 100, 1, 1, 2048)   0         \n",
      "_________________________________________________________________\n",
      "reshape_17 (Reshape)         (None, 100, 2048)         0         \n",
      "_________________________________________________________________\n",
      "net_vlad_9 (NetVLAD)         (None, 72)                9699392   \n",
      "_________________________________________________________________\n",
      "reshape_18 (Reshape)         (None, 3, 24)             0         \n",
      "_________________________________________________________________\n",
      "global_average_pooling1d_7 ( (None, 24)                0         \n",
      "_________________________________________________________________\n",
      "dense_13 (Dense)             (None, 24)                600       \n",
      "_________________________________________________________________\n",
      "dense_14 (Dense)             (None, 3)                 75        \n",
      "=================================================================\n",
      "Total params: 9,700,067\n",
      "Trainable params: 9,700,067\n",
      "Non-trainable params: 0\n",
      "_________________________________________________________________\n"
     ]
    }
   ],
   "source": [
    "\n",
    "import import_ipynb\n",
    "from keras import models\n",
    "from keras import layers\n",
    "import keras.backend as K\n",
    "import loupe_keras as lpk\n",
    "class MyNet():\n",
    "    def __init__(self,extractor_type):\n",
    "        if extractor_type == 'R_Ex':\n",
    "            input_tensor = layers.Input(shape=(100,2048))\n",
    "            resh_dim=2048\n",
    "        elif extractor_type == 'I_Ex':\n",
    "            input_tensor = layers.Input(shape=(100,2048))\n",
    "            resh_dim= 2048\n",
    "        network_output = self.makeTheNet(input_tensor,resh_dim)\n",
    "        self.modello = models.Model(inputs=[input_tensor], outputs=[network_output])\n",
    "        self.modello.compile(loss='binary_crossentropy',optimizer='adam',metrics=['accuracy'])       \n",
    "    def makeTheNet(self,input_tensor,resh_dim):\n",
    "        #x = lpk.ContextGating()(input_tensor)\n",
    "        x = layers.Reshape((100,resh_dim))(input_tensor)\n",
    "        x=lpk.NetVLAD(feature_size = resh_dim ,max_samples=100, cluster_size=32, output_dim=3*16)(x)\n",
    "        x= layers.Reshape((3,16))(x)\n",
    "        x= layers.GlobalAveragePooling1D()(x)\n",
    "        x= layers.Dense(24, activation='relu')(x)\n",
    "        x= layers.Dense(3, activation='sigmoid')(x)\n",
    "        return x\n",
    "\n"
   ]
  },
  {
   "cell_type": "code",
   "execution_count": null,
   "metadata": {},
   "outputs": [],
   "source": []
  },
  {
   "cell_type": "code",
   "execution_count": null,
   "metadata": {},
   "outputs": [],
   "source": []
  }
 ],
 "metadata": {
  "kernelspec": {
   "display_name": "projectname",
   "language": "python",
   "name": "projectname"
  },
  "language_info": {
   "codemirror_mode": {
    "name": "ipython",
    "version": 3
   },
   "file_extension": ".py",
   "mimetype": "text/x-python",
   "name": "python",
   "nbconvert_exporter": "python",
   "pygments_lexer": "ipython3",
   "version": "3.4.5"
  }
 },
 "nbformat": 4,
 "nbformat_minor": 2
}
