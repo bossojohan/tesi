{
 "cells": [
  {
   "cell_type": "code",
   "execution_count": 4,
   "metadata": {},
   "outputs": [
    {
     "name": "stdout",
     "output_type": "stream",
     "text": [
      "_________________________________________________________________\n",
      "Layer (type)                 Output Shape              Param #   \n",
      "=================================================================\n",
      "input_3 (InputLayer)         (None, 100, 2048)         0         \n",
      "_________________________________________________________________\n",
      "net_vlad_3 (NetVLAD)         (None, 72)                9699392   \n",
      "_________________________________________________________________\n",
      "dense_5 (Dense)              (None, 3)                 219       \n",
      "_________________________________________________________________\n",
      "dense_6 (Dense)              (None, 1)                 4         \n",
      "=================================================================\n",
      "Total params: 9,699,615\n",
      "Trainable params: 9,699,615\n",
      "Non-trainable params: 0\n",
      "_________________________________________________________________\n",
      "None\n"
     ]
    }
   ],
   "source": [
    "\n",
    "import import_ipynb\n",
    "from keras import models\n",
    "from keras import layers\n",
    "import numpy as np \n",
    "import loupe_keras as lpk\n",
    "class MyNet():\n",
    "    def __init__(self):\n",
    "        input_tensor = layers.Input(shape=(100,2048))\n",
    "        network_output = self.makeTheNet(input_tensor)\n",
    "        self.modello = models.Model(inputs=[input_tensor], outputs=[network_output])\n",
    "        self.modello.compile(loss='binary_crossentropy',optimizer='adam',metrics=['accuracy'])\n",
    "        print(self.modello.summary())\n",
    "    def makeTheNet(self,input_tensor):\n",
    "        x=lpk.NetVLAD(feature_size= 2048,max_samples=100, cluster_size=64, output_dim=3*24)(input_tensor)\n",
    "        x= layers.Dense(3,activation='relu')(x)\n",
    "        x= layers.Dense(1, activation='sigmoid')(x)\n",
    "        return x\n",
    "r = MyNet()\n",
    "\n",
    "#modello.fit(X,Y, epoches=100, bathc_size=10)\n",
    "\n"
   ]
  },
  {
   "cell_type": "code",
   "execution_count": null,
   "metadata": {},
   "outputs": [],
   "source": []
  }
 ],
 "metadata": {
  "kernelspec": {
   "display_name": "projectname",
   "language": "python",
   "name": "projectname"
  },
  "language_info": {
   "codemirror_mode": {
    "name": "ipython",
    "version": 3
   },
   "file_extension": ".py",
   "mimetype": "text/x-python",
   "name": "python",
   "nbconvert_exporter": "python",
   "pygments_lexer": "ipython3",
   "version": "3.4.5"
  }
 },
 "nbformat": 4,
 "nbformat_minor": 2
}
