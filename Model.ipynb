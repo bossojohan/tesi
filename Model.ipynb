{
 "cells": [
  {
   "cell_type": "code",
   "execution_count": 4,
   "metadata": {},
   "outputs": [
    {
     "name": "stdout",
     "output_type": "stream",
     "text": [
      "_________________________________________________________________\n",
      "Layer (type)                 Output Shape              Param #   \n",
      "=================================================================\n",
      "input_4 (InputLayer)         (None, 100, 2048)         0         \n",
      "_________________________________________________________________\n",
      "net_vlad_4 (NetVLAD)         (None, 72)                9699392   \n",
      "_________________________________________________________________\n",
      "dense_7 (Dense)              (None, 3)                 219       \n",
      "_________________________________________________________________\n",
      "dense_8 (Dense)              (None, 1)                 4         \n",
      "=================================================================\n",
      "Total params: 9,699,615\n",
      "Trainable params: 9,699,615\n",
      "Non-trainable params: 0\n",
      "_________________________________________________________________\n",
      "None\n"
     ]
    }
   ],
   "source": [
    "import import_ipynb\n",
    "from keras import models\n",
    "from keras import layers\n",
    "import numpy as np \n",
    "import loupe_keras as lpk\n",
    "def makeTheNet(input_tensor):\n",
    "    x=lpk.NetVLAD(feature_size= 2048,max_samples=100, cluster_size=64, output_dim=3*24)(input_tensor)\n",
    "    x= layers.Dense(3,activation='relu')(x)\n",
    "    x= layers.Dense(1, activation='sigmoid')(x)\n",
    "    return x\n",
    "input_tensor = layers.Input(shape=(100,2048))\n",
    "network_output= makeTheNet(input_tensor)\n",
    "modello= models.Model(inputs=[input_tensor], outputs=[network_output])\n",
    "modello.compile(loss='binary_crossentropy', optimizer='adam', metrics=['accuracy'])\n",
    "print(modello.summary())\n",
    "\n",
    "#modello.fit(X,Y, epoches=100, bathc_size=10)"
   ]
  },
  {
   "cell_type": "code",
   "execution_count": null,
   "metadata": {},
   "outputs": [],
   "source": []
  },
  {
   "cell_type": "code",
   "execution_count": null,
   "metadata": {},
   "outputs": [],
   "source": []
  }
 ],
 "metadata": {
  "kernelspec": {
   "display_name": "tesienv",
   "language": "python",
   "name": "tesienv"
  },
  "language_info": {
   "codemirror_mode": {
    "name": "ipython",
    "version": 3
   },
   "file_extension": ".py",
   "mimetype": "text/x-python",
   "name": "python",
   "nbconvert_exporter": "python",
   "pygments_lexer": "ipython3",
   "version": "3.6.8"
  }
 },
 "nbformat": 4,
 "nbformat_minor": 2
}
