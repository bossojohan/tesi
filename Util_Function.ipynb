{
 "cells": [
  {
   "cell_type": "code",
   "execution_count": 1,
   "metadata": {},
   "outputs": [],
   "source": [
    "import os.path, glob\n",
    "from keras.utils import to_categorical\n",
    "def getFrames(name,game,action):\n",
    "        root_path = 'SoccerNet/SoccerNet-code/data/data'          \n",
    "        game_time = name[3]+'_'+name[6:11] \n",
    "        name= action+game_time\n",
    "        specific_path =os.path.join(action,game,game_time)\n",
    "        path = os.path.join(root_path, specific_path)         \n",
    "        images = sorted(glob.glob(os.path.join(path, name+'*jpg')))         \n",
    "        return images  \n",
    "def rescaleList(input_list, size):        \n",
    "        assert len(input_list) >= size\n",
    "        skip = len(input_list) // size\n",
    "        output = [input_list[i] for i in range(0, len(input_list), skip)]\n",
    "        return output[:size]\n",
    "def get_class_one_hot(class_str):\n",
    "    if class_str == 'crd':\n",
    "        label_encoded = 0\n",
    "    elif class_str == 'scb':\n",
    "        label_encoded = 1\n",
    "    elif class_str == 'sbs':\n",
    "        label_encoded = 2\n",
    "    label_hot = to_categorical(label_encoded, 3) \n",
    "    assert len(label_hot) == 3\n",
    "    return label_hot"
   ]
  },
  {
   "cell_type": "code",
   "execution_count": null,
   "metadata": {},
   "outputs": [],
   "source": []
  }
 ],
 "metadata": {
  "kernelspec": {
   "display_name": "projectname",
   "language": "python",
   "name": "projectname"
  },
  "language_info": {
   "codemirror_mode": {
    "name": "ipython",
    "version": 3
   },
   "file_extension": ".py",
   "mimetype": "text/x-python",
   "name": "python",
   "nbconvert_exporter": "python",
   "pygments_lexer": "ipython3",
   "version": "3.4.5"
  }
 },
 "nbformat": 4,
 "nbformat_minor": 2
}
