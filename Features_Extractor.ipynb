{
 "cells": [
  {
   "cell_type": "markdown",
   "metadata": {},
   "source": [
    "i parametri settabili sono i numeri di frame che si prendono in considerazione per ogni file video( azione da annotazione e il numero di classi che però banalmente sarà d pari a tre visto che sono tre le classi da dover individuare. \n",
    "si provvede alla lettura del data file, si estraggono tutti i frame per ogni istanza e si effettua un downsample per avere una quantità di frame fissa. si chiama quindi lo strumento di estrazione features sulla sequenza di frame così ottenuta, le features trovate per ogni frame vengono salvate in un file npy.\n",
    "tali file npy sono qelli poi che devono essere trattati dalla funzione vlad o bovw per avere una riassunto della features."
   ]
  },
  {
   "cell_type": "code",
   "execution_count": null,
   "metadata": {},
   "outputs": [],
   "source": [
    "import os.path\n",
    "import numpy as np\n",
    "from tqdm import tqdm\n",
    "\n",
    "seq_length = 100\n",
    "\n",
    "model = extractor()\n",
    "global_sequence = []\n",
    "with open ('data_file.csv') as data_file:\n",
    "    csv_reader = csv.reader(data_file, delimiter = ',')            \n",
    "    for row in csv_reader:         \n",
    "        frames = getFramesSample(row)\n",
    "        frames = rescaleList(frames, seq_length)\n",
    "        sequence = []\n",
    "        for image in frames:\n",
    "            features = model.extract(image)\n",
    "            sequence.append(features)\n",
    "        global_sequence.append(sequence)  \n",
    "    for seque in global_sequence:\n",
    "        "
   ]
  },
  {
   "cell_type": "code",
   "execution_count": null,
   "metadata": {},
   "outputs": [],
   "source": [
    "import numpy as np\n",
    "import os.path\n",
    "from data import DataSet\n",
    "from extractor import Extractor\n",
    "from tqdm import tqdm\n",
    "\n",
    "\n",
    "seq_length = 60\n",
    "class_limit = None \n",
    "data = DataSet(seq_length=seq_length, class_limit=class_limit)\n",
    "model = Extractor()\n",
    "pbar = tqdm(total=len(data.data))\n",
    "for video in data.data:\n",
    "    path = os.path.join('data', 'sequences', video[2] + '-' + str(seq_length) + \\\n",
    "        '-features') \n",
    "        pbar.update(1)\n",
    "        continue\n",
    "    frames = data.get_frames_for_sample(video)\n",
    "    frames = data.rescale_list(frames, seq_length)\n",
    "    sequence = []\n",
    "    for image in frames:\n",
    "        features = model.extract(image)\n",
    "        sequence.append(features)\n",
    "    np.save(path, sequence)\n",
    "    pbar.update(1)\n",
    "pbar.close()"
   ]
  }
 ],
 "metadata": {
  "kernelspec": {
   "display_name": "tesienv",
   "language": "python",
   "name": "tesienv"
  },
  "language_info": {
   "codemirror_mode": {
    "name": "ipython",
    "version": 3
   },
   "file_extension": ".py",
   "mimetype": "text/x-python",
   "name": "python",
   "nbconvert_exporter": "python",
   "pygments_lexer": "ipython3",
   "version": "3.6.8"
  }
 },
 "nbformat": 4,
 "nbformat_minor": 2
}
