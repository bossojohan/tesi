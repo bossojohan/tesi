{
 "cells": [
  {
   "cell_type": "code",
   "execution_count": null,
   "metadata": {},
   "outputs": [],
   "source": [
    "import csv, random, glob, os, os.path, shutil, import_ipynb\n",
    "from Frame_Extractor import check_Already_Exist\n",
    "\n",
    "def random_split(datoc,n):\n",
    "    n0,n1,n2 = n\n",
    "    if(n1>0):\n",
    "        if(n2>0):\n",
    "            indice=random.randint(1,2)\n",
    "            if indice==1:\n",
    "                file_test.write(datoc+\"\\n\")\n",
    "                n1-=1\n",
    "            else:\n",
    "                file_train.write(datoc+\"\\n\")\n",
    "                n2-=1\n",
    "        else:\n",
    "            indice=1\n",
    "            file_test.write(datoc+\"\\n\")\n",
    "            n1-=1\n",
    "    else:\n",
    "        indice=2\n",
    "        file_train.write(datoc+\"\\n\")\n",
    "        n2-=1    \n",
    "    return n0,n1,n2\n",
    "nb_scb=0\n",
    "nb_crd=0\n",
    "nb_sbs=0\n",
    "\n",
    "with open('data_file.csv', 'r') as fout:\n",
    "            reader = csv.reader(fout, delimiter=',')\n",
    "            for row in fout:\n",
    "                dato=row.split(',')\n",
    "                code_action = dato[0][:3]\n",
    "                if(code_action =='scb'):\n",
    "                    nb_scb+=1\n",
    "                elif(code_action =='crd'):\n",
    "                    nb_crd+=1\n",
    "                elif(code_action =='sbs'):\n",
    "                    nb_sbs+=1 \n",
    "scb_nb=[]                    \n",
    "scb_nb= nb_scb, int(nb_scb/3),nb_scb-int(nb_scb/3)\n",
    "crd_nb=[]                    \n",
    "crd_nb= nb_crd, int(nb_crd/3),nb_crd-int(nb_crd/3) \n",
    "sbs_nb=[]                    \n",
    "sbs_nb= nb_sbs, int(nb_sbs/3),nb_sbs-int(nb_sbs/3) \n",
    "file_test=open('file_test.txt','w')\n",
    "file_train=open('file_train.txt','w')\n",
    "with open('data_file.csv', 'r') as fout:\n",
    "            reader = csv.reader(fout, delimiter=',')\n",
    "            for row in fout:\n",
    "                sample=row.split(',')\n",
    "                code_action=dato[0][:3]\n",
    "                if code_action == 'scb':\n",
    "                    scb_nb=random_split(sample,scb_nb)\n",
    "                elif code_action == 'sbs':  \n",
    "                    sbs_nb=random_split(sample,sbs_nb)\n",
    "                elif code_action == 'crd':  \n",
    "                    crd_nb=random_split(sample,crd_nb)  \n",
    "file_test.close()\n",
    "file_train.close()\n"
   ]
  },
  {
   "cell_type": "code",
   "execution_count": null,
   "metadata": {},
   "outputs": [],
   "source": []
  }
 ],
 "metadata": {
  "kernelspec": {
   "display_name": "tesienv",
   "language": "python",
   "name": "tesienv"
  },
  "language_info": {
   "codemirror_mode": {
    "name": "ipython",
    "version": 3
   },
   "file_extension": ".py",
   "mimetype": "text/x-python",
   "name": "python",
   "nbconvert_exporter": "python",
   "pygments_lexer": "ipython3",
   "version": "3.6.8"
  }
 },
 "nbformat": 4,
 "nbformat_minor": 2
}
